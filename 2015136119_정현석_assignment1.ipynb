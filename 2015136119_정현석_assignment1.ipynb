{
 "cells": [
  {
   "cell_type": "markdown",
   "metadata": {},
   "source": [
    "assignment 1_2015136119\n",
    "====================="
   ]
  },
  {
   "cell_type": "markdown",
   "metadata": {},
   "source": [
    "#### 문제 1\n",
    "a=\"Hello Python\" 문자열을 Slicing과 연결 연산자(+)를 사용하여 \"Python Hello\"로 변경하시오.\n",
    "* [주의] a 변수 자체에 \"Python Hello\"문자열이 저장되어야 함"
   ]
  },
  {
   "cell_type": "code",
   "execution_count": 11,
   "metadata": {},
   "outputs": [
    {
     "name": "stdout",
     "output_type": "stream",
     "text": [
      "Python Hello\n"
     ]
    }
   ],
   "source": [
    "a=\"Hello Python\"\n",
    "a1=a[:5]\n",
    "a2=a[6:]\n",
    "a=a2+\" \"+a1\n",
    "print(a)"
   ]
  },
  {
   "cell_type": "markdown",
   "metadata": {},
   "source": [
    "<strong>설명</strong>  \n",
    "   <ul> 변수 type이 str이면 str내 문자 하나당 인덱스가 할당된다. 그 때의 인덱스를 i1,i2라고 할 때 문자열 슬라이싱을 이용할 수 있다.  </ul>\n",
    "    <ul> a[i1:i2]은 a변수의 i1 인덱스 값부터 i2 인덱스 값 전까지 반환하므로 이를 이용하여 문제를 풀면 된다.  </ul>\n",
    "    <ul> 따라서 a[:5]로 \"Hello\"값을 a1에 할당시키고 a[6:]로 \"Python\"값을 a2에 할당한 후 a1과 a2의 순서를 바꾼 후 연결 연산자를 통해 <u><code>a=a2+\" \"+a1</code></u>을 입력하면 a 변수에 \"Python Hello\" 문자열이 저장되게 된다.</ul>"
   ]
  },
  {
   "cell_type": "markdown",
   "metadata": {},
   "source": [
    "#### 문제 2\n",
    "b=\"Hello Python World\" 문자열을 Slicing과 연결 연산자(+)를 사용하여 \"World Python Hello\"로 변경하시오.\n",
    "* [주의] b 변수 자체에 \"World Python Hello\"문자열이 저장되어야 함"
   ]
  },
  {
   "cell_type": "code",
   "execution_count": 1,
   "metadata": {},
   "outputs": [
    {
     "name": "stdout",
     "output_type": "stream",
     "text": [
      "World Python Hello\n"
     ]
    }
   ],
   "source": [
    "b=\"Hello Python World\"\n",
    "b1=b[:5]\n",
    "b2=b[6:12]\n",
    "b3=b[13:18]\n",
    "b=b3+\" \"+b2+\" \"+b1\n",
    "print(b)"
   ]
  },
  {
   "cell_type": "markdown",
   "metadata": {},
   "source": [
    "<strong>설명</strong>  \n",
    "   <ul> 변수 type이 str이면 str내 문자 하나당 인덱스가 할당된다. 그 때의 인덱스를 i1,i2라고 할 때 문자열 슬라이싱을 이용할 수 있다.  </ul>\n",
    "    <ul> b[i1:i2]은 b변수의 i1 인덱스 값부터 i2 인덱스 값 전까지 반환하므로 이를 이용하여 문제를 풀면 된다.  </ul>\n",
    "    <ul> 따라서 b[:5]로 \"Hello\"값을 b1에 할당, b[6:12]로 \"Python\"값을 b2에 할당, b[13:18]로 \"World\"값을 b3에 할당한 후 b1, b2, b3의 순서를 바꾼 후 연결 연산자를 통해 <u><code>b=b3+\" \"+b2+\" \"+b1</code></u>을 입력하면 a 변수에 \"World Python Hello\" 문자열이 저장되게 된다.</ul>"
   ]
  },
  {
   "cell_type": "markdown",
   "metadata": {},
   "source": [
    "#### 문제 3\n",
    "c=\"Hello\"를 \"olleH\"로 변경하시오.\n",
    " * [주의] c 변수 자체에 \"olleH\" 문자열이 저장되어야 함"
   ]
  },
  {
   "cell_type": "code",
   "execution_count": 2,
   "metadata": {
    "scrolled": true
   },
   "outputs": [
    {
     "name": "stdout",
     "output_type": "stream",
     "text": [
      "olleH\n"
     ]
    }
   ],
   "source": [
    "c=\"Hello\"\n",
    "c=c[::-1] # c[start:end:step]\n",
    "print(c)"
   ]
  },
  {
   "cell_type": "markdown",
   "metadata": {},
   "source": [
    "<strong>설명</strong>  \n",
    "   <ul> 슬라이싱에 넣는 값이 3개일 때 슬라이싱은 다음과 같은 의미를 가진다  </ul>\n",
    "   <ul> <ul>c[start:end:stride]   // start : 처음 인덱스, end : 마지막 인덱스, step : 간격</ul>  </ul>\n",
    "   <ul> start와 end에 아무 값도 넣지않으면 c 변수의 인덱스 마지막 인덱스부터 step(=1)값에 따라 인덱스가 -1씩 감소하며 리스트가 재배치 된된 값을 반환한다. 이를 다시 c에 저장하면 c는 \"olleH\"라는 값을 가지게 된다.</ul>"
   ]
  },
  {
   "cell_type": "markdown",
   "metadata": {},
   "source": [
    "#### 문제 4\n",
    "s=\"python\"에 대해 다음 문제를 풀어보시오.\n",
    " <ul>A. s[0],s[0][0],s[0][0][0]은 각각 어떤 값이 나오는지 확인하고 그 이유를 나름대로 설명해 보시오.</ul>\n",
    " <ul>B. s[-100],s[100]은 값이 나오는지 에러가 나오는지 확인하고 그 결과에 대한 이유를 나름대로 설명해 보시오.</ul>\n",
    " <ul>C. s[-100,100]은 값이 나오는지 에러가 나오는지 확인하고 그 결과에 대한 이유를 나름대로 설명해 보시오.</ul>\n",
    " <ul>D. s[1:-1]의 결과를 확인하고 그 결과에 대한 이유를 정확하게 설명하시오.</ul>\n",
    " <ul>E. s[3:-3]의 결과를 확인하고 그 결과에 대한 이유를 정확하게 설명하시오.</ul>"
   ]
  },
  {
   "cell_type": "code",
   "execution_count": 26,
   "metadata": {},
   "outputs": [
    {
     "name": "stdout",
     "output_type": "stream",
     "text": [
      "p p p\n"
     ]
    }
   ],
   "source": [
    "#A\n",
    "s=\"python\"\n",
    "print(s[0],s[0][0],s[0][0][0])"
   ]
  },
  {
   "cell_type": "markdown",
   "metadata": {},
   "source": [
    "<strong>설명</strong>  \n",
    "<ul>s=\"python\"에서 기본적으로 문자열 인덱싱 될 때를 생각해보면 s에는 ['p','y','t','h','o','n']의 형태로 들어간다.  </ul>\n",
    "     <ul>  이 때 s[0][0]의 값을 불러낸다고 하면 앞에 s에 저장된 값을  \n",
    "    [['p',],['y',],['t',],['h',],['o',],'[n',]]  \n",
    "        으로 볼 수 있는데 s[0][1]에는 값이 없어서 error가 발생하지만 s[0][0]은 'p'를 가리키고 있으므로 print(s[0][0])을 하면 정상적으로 p가 출력되게 된다. </ul>  \n",
    "        <ul>s[0][0][0]의 경우도 마찬가지로 볼 수 있다.</ul>"
   ]
  },
  {
   "cell_type": "code",
   "execution_count": 26,
   "metadata": {},
   "outputs": [
    {
     "ename": "IndexError",
     "evalue": "string index out of range",
     "output_type": "error",
     "traceback": [
      "\u001b[1;31m---------------------------------------------------------------------------\u001b[0m",
      "\u001b[1;31mIndexError\u001b[0m                                Traceback (most recent call last)",
      "\u001b[1;32m<ipython-input-26-efaf81ab2cc9>\u001b[0m in \u001b[0;36m<module>\u001b[1;34m()\u001b[0m\n\u001b[0;32m      1\u001b[0m \u001b[1;31m#B\u001b[0m\u001b[1;33m\u001b[0m\u001b[1;33m\u001b[0m\u001b[0m\n\u001b[1;32m----> 2\u001b[1;33m \u001b[0mprint\u001b[0m\u001b[1;33m(\u001b[0m\u001b[0ms\u001b[0m\u001b[1;33m[\u001b[0m\u001b[1;33m-\u001b[0m\u001b[1;36m100\u001b[0m\u001b[1;33m]\u001b[0m\u001b[1;33m,\u001b[0m\u001b[0ms\u001b[0m\u001b[1;33m[\u001b[0m\u001b[1;36m100\u001b[0m\u001b[1;33m]\u001b[0m\u001b[1;33m)\u001b[0m\u001b[1;33m\u001b[0m\u001b[0m\n\u001b[0m",
      "\u001b[1;31mIndexError\u001b[0m: string index out of range"
     ]
    }
   ],
   "source": [
    "#B\n",
    "print(s[-100],s[100])"
   ]
  },
  {
   "cell_type": "markdown",
   "metadata": {},
   "source": [
    "<strong>설명</strong>  \n",
    "<ul>s의 인덱스 값은 \"python\"문자열을 s에 저장할 때 결정된다.  \n",
    "    그래서 s의 인덱스값은 최대 5 최소 -5로 결정되었는데 s[-100]과 s[100]은 해당 인덱스 범위를 벗어나므로 에러가 난다.</ul>"
   ]
  },
  {
   "cell_type": "code",
   "execution_count": 28,
   "metadata": {},
   "outputs": [
    {
     "ename": "TypeError",
     "evalue": "string indices must be integers",
     "output_type": "error",
     "traceback": [
      "\u001b[1;31m---------------------------------------------------------------------------\u001b[0m",
      "\u001b[1;31mTypeError\u001b[0m                                 Traceback (most recent call last)",
      "\u001b[1;32m<ipython-input-28-8e4c7f34417f>\u001b[0m in \u001b[0;36m<module>\u001b[1;34m()\u001b[0m\n\u001b[0;32m      1\u001b[0m \u001b[1;31m#C\u001b[0m\u001b[1;33m\u001b[0m\u001b[1;33m\u001b[0m\u001b[0m\n\u001b[1;32m----> 2\u001b[1;33m \u001b[0mprint\u001b[0m\u001b[1;33m(\u001b[0m\u001b[0ms\u001b[0m\u001b[1;33m[\u001b[0m\u001b[1;33m-\u001b[0m\u001b[1;36m100\u001b[0m\u001b[1;33m,\u001b[0m\u001b[1;36m100\u001b[0m\u001b[1;33m]\u001b[0m\u001b[1;33m)\u001b[0m\u001b[1;33m\u001b[0m\u001b[0m\n\u001b[0m",
      "\u001b[1;31mTypeError\u001b[0m: string indices must be integers"
     ]
    }
   ],
   "source": [
    "#C\n",
    "print(s[-100,100])"
   ]
  },
  {
   "cell_type": "markdown",
   "metadata": {},
   "source": [
    "<strong>설명</strong>  \n",
    "<ul>문자열 인덱스에 들어갈 수 있는 값은 정수값만 되므로  \n",
    "    s[-100,100]은 ,라는 문자가 들어가서 에러가 발생하게 된다.</ul>"
   ]
  },
  {
   "cell_type": "code",
   "execution_count": 29,
   "metadata": {},
   "outputs": [
    {
     "name": "stdout",
     "output_type": "stream",
     "text": [
      "ytho\n"
     ]
    }
   ],
   "source": [
    "#D\n",
    "print(s[1:-1])"
   ]
  },
  {
   "cell_type": "markdown",
   "metadata": {},
   "source": [
    "<strong>설명</strong>  \n",
    "<ul>s[1:-1]은 s[1]부터 s[-1]전까지를 슬라이싱한 값을 가지고 있는데  \n",
    "    s[-1]은 s의 인덱스 마지막 값인 s[5]와 동일하기 때문에 s[1],s[2],s[3],s[4]의 문자열만 출력됐다.</ul>"
   ]
  },
  {
   "cell_type": "code",
   "execution_count": 17,
   "metadata": {},
   "outputs": [
    {
     "name": "stdout",
     "output_type": "stream",
     "text": [
      "\n"
     ]
    }
   ],
   "source": [
    "#E\n",
    "print(s[3:-3])"
   ]
  },
  {
   "cell_type": "markdown",
   "metadata": {},
   "source": [
    "<strong>설명</strong>  \n",
    "<ul>s[3:-3]은 s[3]부터 s[-3]전까지를 슬라이싱한 값을 가지고 있는데  \n",
    "    s[-3]은 s의 인덱스 마지막에서 3번째인 s[3]과 동일하기 때문에 s[3:3]은 아무런 값을 가지지 않는다.</ul>"
   ]
  },
  {
   "cell_type": "markdown",
   "metadata": {},
   "source": [
    "#### 문제 5\n",
    "for문을 활용하여 1부터 100사이의 홀수를 출력하시오."
   ]
  },
  {
   "cell_type": "code",
   "execution_count": 1,
   "metadata": {},
   "outputs": [
    {
     "name": "stdout",
     "output_type": "stream",
     "text": [
      "1 3 5 7 9 11 13 15 17 19 21 23 25 27 29 31 33 35 37 39 41 43 45 47 49 51 53 55 57 59 61 63 65 67 69 71 73 75 77 79 81 83 85 87 89 91 93 95 97 99 "
     ]
    }
   ],
   "source": [
    "for i in range(1,100,2):\n",
    "    print(i,end=\" \")"
   ]
  },
  {
   "cell_type": "markdown",
   "metadata": {},
   "source": [
    "<strong>설명</strong>  \n",
    "   <ul> range(start, end, step)는 start부터 end-1까지의 range() 객체를 반환한다. 이는 start부터 end-1까지의 숫자 리스트를 자동으로 만들어준다. </ul>\n",
    "    <ul> for문은 range()를 통해 만들어진 숫자 리스트의 처음요소부터 마지막요소를 순차적으로 변수 i에 대입하면서 for문의 statement인 <code>print(i,end=\" \")</code>를 수행한다.</ul>\n",
    "    <ul> 이 때 1부터 100까지의 홀수를 출력해야하므로 변수 i에 1부터 2씩 증가하여 99까지 되는 list의 각 요소를 대입하면 된다.</ul>\n",
    "    <ul> 따라서 range(1,100,2)를 통해 1부터 2씩 증가하여 99까지 되는 list를 만들어줘서 이를 출력하게 하면 된다.</ul>"
   ]
  },
  {
   "cell_type": "markdown",
   "metadata": {},
   "source": [
    "#### 문제 6\n",
    "while문을 활용하여 1부터 100사이의 짝수의 합을 계산하여 출력하시오."
   ]
  },
  {
   "cell_type": "code",
   "execution_count": 8,
   "metadata": {},
   "outputs": [
    {
     "name": "stdout",
     "output_type": "stream",
     "text": [
      "2450\n"
     ]
    }
   ],
   "source": [
    "sum =0 #1\n",
    "i1=1   #2\n",
    "while i1<100 :\n",
    "    if i1%2==0 : sum = sum + i1 #3\n",
    "    i1 = i1 + 1 #4\n",
    "print(sum) #5"
   ]
  },
  {
   "cell_type": "markdown",
   "metadata": {},
   "source": [
    "<strong>설명</strong>  \n",
    "   1. <ul>1부터 100사이의 <u>짝수의 합</u>을 저장하기 위한 sum을 선언 및 초기화 했다. </ul>  \n",
    "   2. <ul>while문을 통해 순차적으로 1부터 99까지의 정수를 저장할 i1을 선언하고 가장 처음으로 들어갈 값인 1로 초기화했다. </ul>  \n",
    "   3. <ul>i1이 while문 들어가기전 값이 1이므로 while문의 조건을 만족하고 i1이 짝수임을 확인하기 위해 if문의 조건문에 i1이 2로 나누어 떨어지는지 확인하는 코드를 넣었다. 만약 i1이 2로 나누어 떨어지는 짝수인 경우 sum에 원래 sum에 저장된 값과 i1을 더한 값을 저장한다.</ul>  \n",
    "   4. <ul>i1을 1증가시킨 후 while문의 처음으로 돌아간다. 이 과정이 반복되서 i1이 99일 때까지 while문이 실행된다.</ul>  \n",
    "   5. <ul>최종적으로 sum에 저장된 값을 출력한다.</ul>"
   ]
  },
  {
   "cell_type": "markdown",
   "metadata": {},
   "source": [
    "#### 문제 7\n",
    "사용자로부터 임의의 정수를 입력받고, 해당 숫자를 역순으로 출력하는 프로그램을 작성하시오.  \n",
    "\n",
    "    [실행 예]\n",
    "        정수를 입력하세요 : 3125  \n",
    "        숫자 역순은 5213 입니다."
   ]
  },
  {
   "cell_type": "code",
   "execution_count": 9,
   "metadata": {},
   "outputs": [
    {
     "name": "stdout",
     "output_type": "stream",
     "text": [
      "정수를 입력하세요 :  1654\n",
      "숫자 역순은 4561 입니다.\n"
     ]
    }
   ],
   "source": [
    "print(\"정수를 입력하세요 : \",end=\" \")\n",
    "N7=int(input()) #1\n",
    "s7=str(N7) #2\n",
    "s7=s7[::-1] #3\n",
    "N7=int(s7) #4\n",
    "print(\"숫자 역순은\",end=\" \") #5\n",
    "print(N7,end=\" \")\n",
    "print(\"입니다.\") "
   ]
  },
  {
   "cell_type": "markdown",
   "metadata": {},
   "source": [
    "<strong>설명</strong>  \n",
    "1.  <ul>문제에서 정수형으로 입력받아라는 조건 때문에 input()으로 받은 str을 int로 바꿔줘서 이를 N7에 저장했다.</ul>  \n",
    "2.  <ul>역순으로 바꾸는 것은 문자열의 슬라이싱을 쓰는 것이 편하므로 str로 다시 바꿔서 s7에 저장했다.</ul>  \n",
    "3.  <ul>문자열 슬라이싱을 이용해 s7[::-1]을 통해 s7의 문자열을 역순으로 한 문자열을 s7에 다시 저장했다.</ul>  \n",
    "4.  <ul>이를 다시 숫자 형태로 출력하라는 문제 조건 때문에 s7을 int로 바꾼 후 N7에 저장했다.</ul>  \n",
    "5.  <ul>print()내 <u>연결 연산자 + 는 같은 형의 자료만 연결해서 출력해주기 때문에</u> 문자열과 N7을 따로 print()함수에 사용해서 출력했다.</ul> "
   ]
  },
  {
   "cell_type": "markdown",
   "metadata": {},
   "source": [
    "#### 문제 8\n",
    "사용자로부터 정수를 입력받아서 1부터 그 사이에 존재하는 소수(Prime number)를 출력하는 파이썬 프로그램을 작성하시오."
   ]
  },
  {
   "cell_type": "code",
   "execution_count": 3,
   "metadata": {
    "scrolled": true
   },
   "outputs": [
    {
     "name": "stdout",
     "output_type": "stream",
     "text": [
      "정수 값 하나를 입력해주세요. \n",
      "29\n",
      "1부터 29 사이에 존재하는 소수는 다음과 같습니다.\n",
      "2 3 5 7 11 13 17 19 23 "
     ]
    }
   ],
   "source": [
    "print(\"정수 값 하나를 입력해주세요. \")\n",
    "N8=int(input()) #1\n",
    "print(\"1부터\",end=\" \")\n",
    "print(N8,end=\" \")\n",
    "print(\"사이에 존재하는 소수는 다음과 같습니다.\")\n",
    "for i in range(2,N8): #2\n",
    "    d=True # 숫자가 소수인지 아닌지 결과를 입력받는 변수 -> True : 소수 , False : 소수가 아님\n",
    "    for j in range(2,i):\n",
    "        if i%j==0 : #4\n",
    "            d = False\n",
    "            break #5\n",
    "    if d==True : #6\n",
    "        print(i,end=\" \")"
   ]
  },
  {
   "cell_type": "markdown",
   "metadata": {},
   "source": [
    "<strong>설명</strong>  \n",
    "1. <ul>입력받은 str을 int로 바꿔 N8에 저장했다.</ul>  \n",
    "2. <ul>1부터 N8 사이의 숫자들을 검사하기 위해 range(1,N8)을 해야하나 1은 소수가 아니므로 range(2,N8)로 설정했다. 이를 검사받을 i에 리스트요소 하나씩 i에 대입해서 for문을 실행한다.</ul>  \n",
    "3. <ul><strong><u>소수판단은 검사받을 숫자 i보다 작고 1보다 큰 수들 중 i를 나눌 수 있는 수가 없어야 한다.</u></strong></ul>    \n",
    "4. <ul>검사받을 숫자 i보다 작고 1보다 큰 수들(j) 중 i를 나눴을 때 나머지가 0인 경우가 존재한다면 i는 소수가 아니다. 이 사실을 이용하기 위해 if문의 조건문을 사용했다. i가 j로 나눴을 때 나머지가 0일 때 소수가 아니라는 데이터를 저장하기 위해 변수 d에 False를 저장하도록 했다.(i가 2일 때 안의 for문의 range()가 range(2,2)로 이는 []를 나타내기 때문에 <code>d=False</code>문장이 실행되지 않고 바로 <code>if d==True :</code>부분으로 넘어간다)</ul>  \n",
    "5. <ul>i를 나눴을 때 나머지가 0이 되는 경우가 발생하면 i가 이미 소수가 아님을 뜻하므로 더 이상 j의 값을 증가시키면서 안의 for문을 실행시킬 필요가 없으므로 break를 써서 안의 for문을 탈출하게 했다.</ul>  \n",
    "6. <ul>만약 j가 i-1이 될 때까지 i를 나눴을 때 나머지가 0인 경우가 나타나지 않는다면 변수 d는 True 값을 지닐 것이고 이는 그 때의 i가 소수임을 말하므로 그 때의 i를 출력하도록 했다.</ul>  "
   ]
  },
  {
   "cell_type": "markdown",
   "metadata": {},
   "source": [
    "#### 문제 9 [ACM-ICPC 2441]\n",
    "* 별찍기  \n",
    "    첫째 줄에는 별 N개, 둘째 줄에는 별 N-1개, ..., N번째 줄에는 별 1개를 찍는 문제\n",
    "![image](https://github.com/JungHyunSuok/Script_lec/blob/master/%EB%B3%84.png?raw=true)"
   ]
  },
  {
   "cell_type": "code",
   "execution_count": 4,
   "metadata": {},
   "outputs": [
    {
     "name": "stdout",
     "output_type": "stream",
     "text": [
      "7\n",
      "*******\n",
      " ******\n",
      "  *****\n",
      "   ****\n",
      "    ***\n",
      "     **\n",
      "      *\n"
     ]
    }
   ],
   "source": [
    "N=int(input())\n",
    "for i in range(0,N): # 반복문1\n",
    "    for k1 in range(0,i): # 반복문 2\n",
    "        print(' ',end='')\n",
    "    for k2 in range(i,N): # 반복문 3\n",
    "        print(\"*\",end='')\n",
    "    print()"
   ]
  },
  {
   "cell_type": "markdown",
   "metadata": {},
   "source": [
    "<strong>설명</strong>\n",
    "<ul>이 문제를 해결하기 위해서는 개행를 위한 반복문1, 공백을 출력하기 위한 반복문2, '*'을 출력하기 위한 반복문3이 필요하다.</ul>\n",
    "<ul>반복문1은 입력받은 숫자 N만큼의 줄을 출력을 위해 N-1개의 개행문자가 필요하므로 range(0,N)으로 설정한다.</ul>\n",
    "<ul>출력될 각각의 줄의 형태를 생각해보면 공백출력이 먼저 실행되고 '*'출력이 늦게 시작됨을 알 수 있으므로 반복문2, 반복문3의 순으로 코드를 짠다.</ul>\n",
    "<ul> 처음 출력된 줄이 0번째 줄이라고 할 때 i번째 줄에는 공백이 i개 출력되고 '*'이 N-i개가 출력됨을 알 수 있으므로 반복문2는 range(0,i)로 반복문3은 range(i,N)으로 설정하고 그에 맞게 반복문2에서는 공백을, 반복문3에서는 '*'을 출력하면 별이 원하는 대로 찍힘을 알 수 있다.</ul>"
   ]
  },
  {
   "cell_type": "markdown",
   "metadata": {},
   "source": [
    "#### 문제 10[ACM-ICPC 11721]\n",
    "* 열 개씩 끊어 출력하기  \n",
    "    알파벳 소문자와 대문자로만 이루어진 길이가 N인 단어가 주어진다.한 줄에 10글자씩 끊어서 출력하는 프로그램을 작성하시오\n",
    "![image](https://github.com/JungHyunSuok/Script_lec/blob/master/%EC%97%B4%EA%B0%9C%EC%94%A9.png?raw=true)"
   ]
  },
  {
   "cell_type": "code",
   "execution_count": 14,
   "metadata": {
    "scrolled": true
   },
   "outputs": [
    {
     "name": "stdout",
     "output_type": "stream",
     "text": [
      "OneTwoThreeFourFive\n",
      "OneTwoThre\n",
      "eFourFive\n"
     ]
    }
   ],
   "source": [
    "s10=input()\n",
    "for i in range(0,len(s10)//10+1): # 반복문 1\n",
    "    for j in range(0,10): # 반복문 2\n",
    "        if 10*i+j==len(s10): #4\n",
    "            break\n",
    "        print(s10[10*i+j],end='')\n",
    "    print() #5"
   ]
  },
  {
   "cell_type": "markdown",
   "metadata": {},
   "source": [
    "<strong>설명</strong>\n",
    "1. <ul>문자열의 인덱스를 사용한다.</ul>  \n",
    "2. <ul>한 줄에 10글자씩 출력하기 위해서는 s의 인덱스 값의 십의 자리 수가 바뀔 때 마다 개행문자를 넣어주면 된다.</ul>  \n",
    "3. <ul>인덱스 값의 십의 자리 수를 i, 일의 자리 수를 j라고 했을 때 i에 대한 for문을 반복문1, j에 대한 for문을 반복문2라고 하자.</ul>  \n",
    "4. <ul>반복문2에서 10*i+j 값이 문자열 길이 값과 같아지면 더이상 출력할 대상이 없으므로 break를 통해 반복문을 탈출하게 했고 그 전까지는 j가 0~9까지 반복문2가 돌아야지 십의 자리인 i 값이 바뀌므로 공백없이 해당 인덱스의 문자열 값을 출력하도록 했다.</ul>  \n",
    "5. <ul>j가 0~9까지 반복문2가 실행되면 i값이 바뀌기 직전 <code>print()</code>를 통해 공백을 넣음으로써 열 개씩 끊어서 출력하게 만들었다.</ul>  "
   ]
  },
  {
   "cell_type": "markdown",
   "metadata": {},
   "source": [
    "#### 문제 11 [ACM-ICPC 2839]\n",
    "* 설탕 배달  \n",
    "    상근이는 요즘 설탕공장에서 설탕을 배달하고 있다. 상근이는 지금 사탕가게에 설탕을 정확하게 N킬로그램을 배달해야 한다. 설탕공장에서 만드는 설탕은 봉지에 담겨져 있다. 봉지는 3킬로그램 봉지와 5킬로그램 봉지가 있다.\n",
    "\n",
    "    상근이는 귀찮기 때문에, 최대한 적은 봉지를 들고 가려고 한다. 예를 들어, 18킬로그램 설탕을 배달해야 할 때, 3킬로그램 봉지 6개를 가져가도 되지만, 5킬로그램 3개와 3킬로그램 1개를 배달하면, 더 적은 개수의 봉지를 배달할 수 있다.\n",
    "\n",
    "    상근이가 설탕을 정확하게 N킬로그램 배달해야 할 때, 봉지 몇 개를 가져가면 되는지 그 수를 구하는 프로그램을 작성하시오.\n",
    "![image](https://github.com/JungHyunSuok/Script_lec/blob/master/%EC%84%A4%ED%83%95%EB%B0%B0%EB%8B%AC.png?raw=true)"
   ]
  },
  {
   "cell_type": "code",
   "execution_count": 10,
   "metadata": {},
   "outputs": [
    {
     "name": "stdout",
     "output_type": "stream",
     "text": [
      "27\n",
      "7\n"
     ]
    }
   ],
   "source": [
    "N=int(input())\n",
    "result = 0\n",
    "a=N//5  #1\n",
    "while a>=0 :  #2\n",
    "    if (N-5*a)%3 ==0 :  #3\n",
    "        b=(N-5*a)//3\n",
    "        break\n",
    "    a-=1\n",
    "if a==-1 : #5\n",
    "    result = -1\n",
    "else : #6\n",
    "    result = a+b\n",
    "print(result)"
   ]
  },
  {
   "cell_type": "markdown",
   "metadata": {},
   "source": [
    "<strong>설명</strong>  \n",
    " <ul> N : 설탕무게, a : 5kg 봉지갯수, b: 3kg 봉지갯수, result : 최종적으로 배달해야 할 봉지갯수</ul>  \n",
    "1. <ul> N을 5로 나눴을 때 몫을 a에 저장한다. 이 때 a의 값은 N을 5kg 봉지에 담을 수 있는 최대 봉지 수이다.</ul>  \n",
    "1. <ul> 최대값을 지닌 a일 때부터 a가 0이 될 때까지 설탕무게 N을 5kg봉지에 나눠담은 후 남은 무게 (N-5*a)를 3kg 봉지에 남는 것 없이 정확하게 나눠 담을 수 있는 경우를 찾는 반복문을 돌린다. 이를 위해 a는 반복문이 실행될 때마다 -1씩 감소시킨다.</ul>  \n",
    "1. <ul> 남은 무게 <code>(N-5*a)</code> 를 3kg 봉지에 남는 것 없이 정확하게 나눠 담을 수 있는 경우 (<code>(N-5*a)%3==0</code>이 True) 에 b를 최종확정한다. 그리고 a의 값에 변화를 주지 않고 바로 while문을 나가기 위해 break를 사용한다.</ul>  \n",
    "1. <ul> 만약 b값을 최종확정하지 못할 때까지 while문을 실행시키면 a는 -1값을 가진 채 while문이 종료되는데 이 경우는 5kg봉지와 3kg봉지로 나눠 담을 수 없는 경우를 나타내므로 a가 -1을 가지면 result에 -1을 저장시키게 한다.</ul>  \n",
    "1. <ul> a가 -1이 되지 않은 경우는 a와 b가 최종확정된 값을 지니고 있음을 뜻하므로 result에 a+b 값을 저장시킨다.</ul>  \n",
    "1. <ul> 최종봉지 갯수인 result를 화면에 출력시킨다.</ul>"
   ]
  },
  {
   "cell_type": "markdown",
   "metadata": {},
   "source": [
    "### 소감\n",
    "- 이번 과제가 저의 프로그래밍 공부방법을 바꾸는 계기가 됐습니다. 평소 언어 공부를 할 때 이론을 위주로 대부분 공부 시간을 치중하고 막상 문제를 풀면서 적용하는 시간은 다른 일 때문에 치여서 하지 못했습니다. 그런데 이번 과제 문제들을 풀면서 제가 코딩을 하면서 내는 잔실수들, 직접 코딩해서 print하지 않았으면 error가 발생할 지 몰랐던 부분 등을 찾아내고 고치게 되어서 배운 개념들을 문제를 풀면서 직접 코딩하는 과정이 얼마나 중요한지를 깨달았습니다.그래서 앞으로 코딩하면서 적용하는 것에 시간 비중을 높이고 이론 공부할 때 '이 코드를 이렇게 바꾸면 제대로 동작할까?'라고 생각만 하고 지나가던 것들도 바로 직접 IDE에 타이핑해서 프로그램을 실행시켜 눈으로 확인해서 익히는 습관을 가져야겠다고 생각하게 됐습니다."
   ]
  }
 ],
 "metadata": {
  "kernelspec": {
   "display_name": "Python 3",
   "language": "python",
   "name": "python3"
  },
  "language_info": {
   "codemirror_mode": {
    "name": "ipython",
    "version": 3
   },
   "file_extension": ".py",
   "mimetype": "text/x-python",
   "name": "python",
   "nbconvert_exporter": "python",
   "pygments_lexer": "ipython3",
   "version": "3.6.5"
  }
 },
 "nbformat": 4,
 "nbformat_minor": 2
}
